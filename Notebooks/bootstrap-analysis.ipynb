{
 "cells": [
  {
   "cell_type": "markdown",
   "metadata": {},
   "source": [
    "### A Bootstrap analysis of Semmelweis handwashing data  \n",
    "As we learned from the `exploring.ipynb` notebook, the handwashhing factor is reducing the death rate around 8%.  \n",
    "Is it true?  \n",
    "  \n",
    "First start with read our data:"
   ]
  },
  {
   "cell_type": "code",
   "execution_count": 1,
   "metadata": {},
   "outputs": [
    {
     "data": {
      "text/html": [
       "<div>\n",
       "<style scoped>\n",
       "    .dataframe tbody tr th:only-of-type {\n",
       "        vertical-align: middle;\n",
       "    }\n",
       "\n",
       "    .dataframe tbody tr th {\n",
       "        vertical-align: top;\n",
       "    }\n",
       "\n",
       "    .dataframe thead th {\n",
       "        text-align: right;\n",
       "    }\n",
       "</style>\n",
       "<table border=\"1\" class=\"dataframe\">\n",
       "  <thead>\n",
       "    <tr style=\"text-align: right;\">\n",
       "      <th></th>\n",
       "      <th>date</th>\n",
       "      <th>births</th>\n",
       "      <th>deaths</th>\n",
       "      <th>proportion</th>\n",
       "    </tr>\n",
       "  </thead>\n",
       "  <tbody>\n",
       "    <tr>\n",
       "      <th>0</th>\n",
       "      <td>1841-01-01</td>\n",
       "      <td>254</td>\n",
       "      <td>37</td>\n",
       "      <td>14.57</td>\n",
       "    </tr>\n",
       "    <tr>\n",
       "      <th>1</th>\n",
       "      <td>1841-02-01</td>\n",
       "      <td>239</td>\n",
       "      <td>18</td>\n",
       "      <td>7.53</td>\n",
       "    </tr>\n",
       "    <tr>\n",
       "      <th>2</th>\n",
       "      <td>1841-03-01</td>\n",
       "      <td>277</td>\n",
       "      <td>12</td>\n",
       "      <td>4.33</td>\n",
       "    </tr>\n",
       "  </tbody>\n",
       "</table>\n",
       "</div>"
      ],
      "text/plain": [
       "         date  births  deaths  proportion\n",
       "0  1841-01-01     254      37       14.57\n",
       "1  1841-02-01     239      18        7.53\n",
       "2  1841-03-01     277      12        4.33"
      ]
     },
     "execution_count": 1,
     "metadata": {},
     "output_type": "execute_result"
    }
   ],
   "source": [
    "import pandas as pd\n",
    "import numpy as np\n",
    "\n",
    "before_url = '../Datasets/before_handwashing.csv'\n",
    "after_url = '../Datasets/after_handwashing.csv'\n",
    "\n",
    "before = pd.read_csv(before_url)\n",
    "after = pd.read_csv(after_url)\n",
    "\n",
    "before.head(3)"
   ]
  },
  {
   "cell_type": "code",
   "execution_count": 14,
   "metadata": {},
   "outputs": [
    {
     "data": {
      "text/plain": [
       "array([-10.47606042,  -6.19441875])"
      ]
     },
     "execution_count": 14,
     "metadata": {},
     "output_type": "execute_result"
    }
   ],
   "source": [
    "boot_mean_diff = []\n",
    "\n",
    "for i in range(1000):\n",
    "    boot_before = np.random.choice(before['proportion'], replace=False, size=int(len(before)*0.4))\n",
    "    boot_after = np.random.choice(after['proportion'], replace=False, size=int(len(after)*0.4))\n",
    "    boot_mean_diff.append(boot_after.mean() - boot_before.mean())\n",
    "\n",
    "confidence_interval = np.percentile(boot_mean_diff, [2.5, 97.5])\n",
    "confidence_interval"
   ]
  },
  {
   "cell_type": "markdown",
   "metadata": {},
   "source": [
    "### Checking Z-Score\n",
    "$$\n",
    "Z_{score} = {sample.stat - hypothesis.parameters.value \\over standard.error}\n",
    "$$    \n",
    "  \n",
    "$$\n",
    "\\left\\lvert Z-score_{calculated} \\right\\rvert < \\left\\lvert Z-score_{from.table} \\right\\rvert\n",
    "$$ \n",
    "  \n",
    "If the condition that is above happend then we can't reject the null hypothesis."
   ]
  },
  {
   "cell_type": "code",
   "execution_count": 23,
   "metadata": {},
   "outputs": [
    {
     "name": "stdout",
     "output_type": "stream",
     "text": [
      "-7.592929676101989 \n",
      " 1.5637615151446524e-14\n"
     ]
    }
   ],
   "source": [
    "from scipy.stats import norm\n",
    "\n",
    "Z_calculated = (np.mean(boot_mean_diff) - 0) / np.std(boot_mean_diff)\n",
    "\n",
    "Z_table = norm.cdf(Z_calculated)\n",
    "\n",
    "print(Z_calculated, '\\n', Z_table)"
   ]
  },
  {
   "cell_type": "markdown",
   "metadata": {},
   "source": [
    "### Results of the bootstrap analysis  \n",
    "$H_{0}:$ Handwashing factor has no effect on death proportion  \n",
    "$H_{1}:$ Handwashing factor has effect on death proportion  \n",
    "  \n",
    "Z-score that is calcualted is too low than Z-score that came from normal distribution, so we can reject the null hypothesis.  \n",
    "  \n",
    "We can say handwashing factor has effect on death proportion. Moreover we found handwashing factor is reducing the death rate 2% to 10% with 95% confidence interval."
   ]
  },
  {
   "cell_type": "code",
   "execution_count": 15,
   "metadata": {},
   "outputs": [],
   "source": [
    "# The data Semmelweis collected points to that:\n",
    "doctors_should_wash_their_hands = True"
   ]
  }
 ],
 "metadata": {
  "kernelspec": {
   "display_name": "Python 3.10.5 64-bit",
   "language": "python",
   "name": "python3"
  },
  "language_info": {
   "codemirror_mode": {
    "name": "ipython",
    "version": 3
   },
   "file_extension": ".py",
   "mimetype": "text/x-python",
   "name": "python",
   "nbconvert_exporter": "python",
   "pygments_lexer": "ipython3",
   "version": "3.10.5"
  },
  "orig_nbformat": 4,
  "vscode": {
   "interpreter": {
    "hash": "578ce5a4903d7b45920c2d79663ce2541e7c0226009dc3f8451a28c8417bba54"
   }
  }
 },
 "nbformat": 4,
 "nbformat_minor": 2
}
